{
  "nbformat": 4,
  "nbformat_minor": 0,
  "metadata": {
    "colab": {
      "name": "FibrePrices",
      "provenance": [],
      "collapsed_sections": [],
      "machine_shape": "hm",
      "include_colab_link": true
    },
    "kernelspec": {
      "name": "python3",
      "display_name": "Python 3"
    }
  },
  "cells": [
    {
      "cell_type": "markdown",
      "metadata": {
        "id": "view-in-github",
        "colab_type": "text"
      },
      "source": [
        "<a href=\"https://colab.research.google.com/github/zhou-en/Notebooks/blob/main/FibrePrices.ipynb\" target=\"_parent\"><img src=\"https://colab.research.google.com/assets/colab-badge.svg\" alt=\"Open In Colab\"/></a>"
      ]
    },
    {
      "cell_type": "code",
      "metadata": {
        "id": "dmqwDAFK5wK_"
      },
      "source": [
        "import requests\n",
        "import json\n",
        "import numpy as np\n",
        "import matplotlib.pyplot as plt\n",
        "import itertools\n",
        "\n",
        "plt.style.use('seaborn-whitegrid')\n",
        "# if using a Jupyter notebook, include:\n",
        "%matplotlib inline\n",
        "max_speed = 100\n",
        "min_speed = 20\n",
        "blacklist = [\"telkom\", \"vodacom\", ]#\"easyweb\", \"bitco\", \"homeconnect\", \"supersonic\"]\n",
        "whitelist = [\"vox\", \"axxess\", \"mweb\", \"homeconnect\", \"webafrica\", \"fibrestream\", \"rsaweb\", \"cellc\"]"
      ],
      "execution_count": 1,
      "outputs": []
    },
    {
      "cell_type": "code",
      "metadata": {
        "id": "qasTTCQLnjBk"
      },
      "source": [
        "url = \"https://www.fibretiger.co.za/api/server.php\"\n",
        "\n",
        "# sslug - ISP Name\n",
        "# shaped\n",
        "# price - Monthly fee in Rand\n",
        "# speed_down - Download speed in Mb\n",
        "# speed_up - Upload speed in Mb\n",
        "\n",
        "speed_up = 1\n",
        "speed_down = min_speed\n",
        "\n",
        "minspeed_in_mb = speed_down\n",
        "network = \"vumatel\"\n",
        "uncapped = 1\n",
        "params = {\"minspeed\": minspeed_in_mb,\"slug\":False,\"nslug\": network,\"redirect\":0,\"uncapped\": uncapped,\"homeq\":False}\n",
        "data = {\"id\":1,\"method\":\"package_get_all\",\"params\":[params]}\n",
        "\n",
        "response = requests.post(url, json=data )\n",
        "package_list = response.json()[\"result\"][\"packageList\"]\n",
        "# print(json.dumps(package_list, indent=4))\n",
        "# for package in package_list:\n",
        "#     if package.get(\"sslug\") == \"axxess\":\n",
        "#         # if (speed_down == package.get('speed_down')):\n",
        "#         if \"shaped\" in package:\n",
        "#             print(\n",
        "#                 f\"\\n{package.get('sslug')}\\n---\\nPrice: R{package.get('price')}\\nDownload: {package.get('speed_down')}Mb\\nUpload: {package.get('speed_up')}Mb\\nShaped: {package.get('shaped')}\\n\"\n",
        "            # )"
      ],
      "execution_count": 2,
      "outputs": []
    },
    {
      "cell_type": "code",
      "metadata": {
        "id": "TTgw9yKoBVlk"
      },
      "source": [
        "isp_data = {}\n",
        "\n",
        "speed_list = []\n",
        "isp_list = []\n",
        "for p in package_list:\n",
        "    isp_name = p.get(\"sslug\")\n",
        "    down_speed = p.get(\"speed_down\")\n",
        "    up_speed = p.get(\"speed_up\")\n",
        "    shaped = p.get(\"shaped\")\n",
        "    rating = p.get(\"rating\")\n",
        "    price = p.get(\"price\")\n",
        "\n",
        "    if min_speed <= down_speed <= max_speed and isp_name in whitelist:\n",
        "        if isp_name not in isp_data:\n",
        "            isp_data.update(\n",
        "                {\n",
        "                    isp_name: {\n",
        "                        \"prices\": {\n",
        "                            down_speed: {\n",
        "                                up_speed: price\n",
        "                            }\n",
        "                        },\n",
        "                        \"rating\": rating,\n",
        "                        \"shaped\": shaped\n",
        "                    }\n",
        "                }\n",
        "            )\n",
        "        else:\n",
        "            if down_speed not in isp_data[isp_name][\"prices\"]:\n",
        "                isp_data[isp_name][\"prices\"].update(\n",
        "                    {\n",
        "                        down_speed: {\n",
        "                            up_speed: price\n",
        "                        }\n",
        "                    }\n",
        "                )\n",
        "            else:\n",
        "                if up_speed not in isp_data[isp_name][\"prices\"][down_speed]:\n",
        "                    isp_data[isp_name][\"prices\"][down_speed].update(\n",
        "                        {\n",
        "                            up_speed: price\n",
        "                        }\n",
        "                    )\n",
        "\n",
        "\n",
        "# print(json.dumps(isp_data['vodacom'], indent=4))\n",
        "\n"
      ],
      "execution_count": 3,
      "outputs": []
    },
    {
      "cell_type": "code",
      "metadata": {
        "id": "wrGVVxFiG3PE",
        "outputId": "5e46b547-96f6-4d20-fa6c-004556208f19",
        "colab": {
          "base_uri": "https://localhost:8080/",
          "height": 649
        }
      },
      "source": [
        "\n",
        "marker = itertools.cycle((\"v\", \"+\", \"P\", \".\", \"o\", \">\",  \"*\", \"^\", \"d\", \"s\", \"X\", \"<\"))\n",
        "fig = plt.figure(figsize=(10, 10))\n",
        "ax = plt.axes()\n",
        "\n",
        "for name, isp in isp_data.items():\n",
        "    speed_list = [int(k) for k in isp[\"prices\"].keys()]\n",
        "    price_values = []\n",
        "    for speed, prices in isp[\"prices\"].items():\n",
        "        for up_speed, price in prices.items():\n",
        "            if up_speed != speed:\n",
        "                price_values.append(price)\n",
        "    # print(name)\n",
        "    # print(speed_list)\n",
        "    # print(price_values)\n",
        "    if speed_list and price_values and (len(speed_list) == len(price_values)):\n",
        "        plt.plot(speed_list, price_values, label=name, linestyle=\"\", marker=next(marker), markersize=10)\n",
        "        for i,j in zip(speed_list, price_values):\n",
        "            ax.annotate(str(j),xy = (i,j), fontsize=16)\n",
        "\n",
        "\n",
        "plt.title(\"ISP Fibre Speed vs Prices\",fontsize=18, fontweight=\"bold\")\n",
        "plt.xlabel(\"Download Speed (Mb)\", fontsize=16)\n",
        "plt.xticks(fontsize=16)\n",
        "plt.ylabel(\"Price (R)\", fontsize=16);\n",
        "plt.yticks(fontsize=16)\n",
        "plt.legend(fontsize=14)\n",
        "\n"
      ],
      "execution_count": 4,
      "outputs": [
        {
          "output_type": "execute_result",
          "data": {
            "text/plain": [
              "<matplotlib.legend.Legend at 0x7f699266bdd0>"
            ]
          },
          "metadata": {},
          "execution_count": 4
        },
        {
          "output_type": "display_data",
          "data": {
            "image/png": "[encoded data removed]",
            "text/plain": [
              "<Figure size 720x720 with 1 Axes>"
            ]
          },
          "metadata": {
            "needs_background": "light"
          }
        }
      ]
    }
  ]
}