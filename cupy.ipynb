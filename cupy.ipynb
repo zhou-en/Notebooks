{
  "nbformat": 4,
  "nbformat_minor": 0,
  "metadata": {
    "colab": {
      "name": "cupy.ipynb",
      "provenance": [],
      "collapsed_sections": [],
      "machine_shape": "hm"
    },
    "kernelspec": {
      "name": "python3",
      "display_name": "Python 3"
    },
    "accelerator": "GPU"
  },
  "cells": [
    {
      "cell_type": "code",
      "metadata": {
        "id": "dmqwDAFK5wK_",
        "colab_type": "code",
        "colab": {}
      },
      "source": [
        "import numpy as np\n",
        "import cupy as cp\n",
        "import time"
      ],
      "execution_count": 0,
      "outputs": []
    },
    {
      "cell_type": "code",
      "metadata": {
        "id": "qasTTCQLnjBk",
        "colab_type": "code",
        "colab": {}
      },
      "source": [
        "def matprint(mat, fmt=\"g\"):\n",
        "    col_maxes = [max([len((\"{:\"+fmt+\"}\").format(x)) for x in col]) for col in mat.T]\n",
        "    for x in mat:\n",
        "        for i, y in enumerate(x):\n",
        "            print((\"{:\"+str(col_maxes[i])+fmt+\"}\").format(y), end=\"  \")\n",
        "        print(\"\")\n",
        "    print()"
      ],
      "execution_count": 0,
      "outputs": []
    },
    {
      "cell_type": "code",
      "metadata": {
        "id": "XI-l3zMLYjzz",
        "colab_type": "code",
        "outputId": "46eddf5e-4260-4fe2-ca7b-38402347735f",
        "colab": {
          "base_uri": "https://localhost:8080/",
          "height": 228
        }
      },
      "source": [
        "m = np.ones((3, 3))\n",
        "v = np.ones((3, 1))\n",
        "p = np.dot(m,v)\n",
        "matprint(m)\n",
        "matprint(v)\n",
        "matprint(p)\n",
        "\n"
      ],
      "execution_count": 3,
      "outputs": [
        {
          "output_type": "stream",
          "text": [
            "1  1  1  \n",
            "1  1  1  \n",
            "1  1  1  \n",
            "\n",
            "1  \n",
            "1  \n",
            "1  \n",
            "\n",
            "3  \n",
            "3  \n",
            "3  \n",
            "\n"
          ],
          "name": "stdout"
        }
      ]
    },
    {
      "cell_type": "code",
      "metadata": {
        "id": "V-G8GZkpHaQt",
        "colab_type": "code",
        "colab": {
          "base_uri": "https://localhost:8080/",
          "height": 70
        },
        "outputId": "61b16651-5b12-4f24-ddd5-7eed4fcaf6ea"
      },
      "source": [
        "N = 50000000\n",
        "# Vector + Vector\n",
        "############CPU###############\n",
        "\n",
        "s = time.time()\n",
        "\n",
        "a_h = np.ones((N))\n",
        "b_h = np.ones((N))\n",
        "c_h = np.ones((N))\n",
        "\n",
        "c_h = a_h + b_h\n",
        "\n",
        "e = time.time()\n",
        "cpu_time = (e - s) * 1000.0\n",
        "print(f\"CPU Time: {cpu_time} msec\")\n",
        "\n",
        "############GPU###############\n",
        "stream = cp.cuda.Stream.null\n",
        "start = stream.record()\n",
        "\n",
        "a_d = cp.ones((N))\n",
        "b_d = cp.ones((N))\n",
        "c_d = cp.ones((N))\n",
        "\n",
        "c_d = a_d + b_d\n",
        "\n",
        "end = stream.record()\n",
        "end.synchronize()\n",
        "gpu_time = cp.cuda.get_elapsed_time(start, end)\n",
        "print(f\"GPU Time: {gpu_time} msec\")\n",
        "\n",
        "############Speedup###############\n",
        "print(f\"Speedup = {cpu_time/gpu_time}\")\n",
        "# print(c_d[:10])"
      ],
      "execution_count": 22,
      "outputs": [
        {
          "output_type": "stream",
          "text": [
            "CPU Time: 390.06853103637695 msec\n",
            "GPU Time: 17.771711349487305 msec\n",
            "Speedup = 21.948844619718066\n"
          ],
          "name": "stdout"
        }
      ]
    },
    {
      "cell_type": "code",
      "metadata": {
        "colab_type": "code",
        "outputId": "e2dbbd05-2864-4816-9b4e-e9532a42f073",
        "id": "AQhbTjB0qvYn",
        "colab": {
          "base_uri": "https://localhost:8080/",
          "height": 70
        }
      },
      "source": [
        "N = 10000000\n",
        "# Vector * Scalar (Size: 10m)\n",
        "############CPU###############\n",
        "s = time.time()\n",
        "\n",
        "v_cpu = np.ones((N))\n",
        "p_cpu = v_cpu * 5\n",
        "\n",
        "e = time.time()\n",
        "cpu_time = (e - s) * 1000.0\n",
        "print(f\"CPU Time: {cpu_time} msec\")\n",
        "\n",
        "############GPU###############\n",
        "stream = cp.cuda.Stream.null\n",
        "start = stream.record()\n",
        "\n",
        "v_gpu = cp.ones((N))\n",
        "p_gpu = v_gpu * 5\n",
        "\n",
        "end = stream.record()\n",
        "end.synchronize()\n",
        "gpu_time = cp.cuda.get_elapsed_time(start, end)\n",
        "print(f\"GPU Time: {gpu_time} msec\")\n",
        "\n",
        "############Speedup###############\n",
        "print(f\"Speedup = {cpu_time/gpu_time}\")"
      ],
      "execution_count": 5,
      "outputs": [
        {
          "output_type": "stream",
          "text": [
            "CPU Time: 59.157609939575195 msec\n",
            "GPU Time: 218.20953369140625 msec\n",
            "Speedup = 0.27110460729564817\n"
          ],
          "name": "stdout"
        }
      ]
    },
    {
      "cell_type": "code",
      "metadata": {
        "id": "RO70m9dY53gw",
        "colab_type": "code",
        "outputId": "43565966-47c1-4262-cdaf-f4ba4a6e7241",
        "colab": {
          "base_uri": "https://localhost:8080/",
          "height": 70
        }
      },
      "source": [
        "N = 20000\n",
        "# Matrix * Vector\n",
        "############CPU###############\n",
        "s = time.time()\n",
        "\n",
        "m_cpu = np.ones((N, N))\n",
        "v_cpu = np.ones((N, 1))\n",
        "p_cpu = np.dot(m_cpu, v_cpu)\n",
        "\n",
        "e = time.time()\n",
        "cpu_time = (e - s) * 1000.0\n",
        "print(f\"CPU Time: {cpu_time} msec\")\n",
        "\n",
        "############GPU###############\n",
        "stream = cp.cuda.Stream.null\n",
        "start = stream.record()\n",
        "\n",
        "m_gpu = cp.ones((N, N))\n",
        "v_gpu = cp.ones((N, 1))\n",
        "p_gpu = cp.dot(m_gpu, v_gpu)\n",
        "\n",
        "end = stream.record()\n",
        "end.synchronize()\n",
        "gpu_time = cp.cuda.get_elapsed_time(start, end)\n",
        "print(f\"GPU Time: {gpu_time} msec\")\n",
        "\n",
        "############Speedup###############\n",
        "print(f\"Speedup = {cpu_time/gpu_time}\")"
      ],
      "execution_count": 6,
      "outputs": [
        {
          "output_type": "stream",
          "text": [
            "CPU Time: 1054.3713569641113 msec\n",
            "GPU Time: 790.5429077148438 msec\n",
            "Speedup = 1.3337307142655854\n"
          ],
          "name": "stdout"
        }
      ]
    },
    {
      "cell_type": "code",
      "metadata": {
        "id": "NiA5yqilVvTD",
        "colab_type": "code",
        "outputId": "988d22fa-96f2-4d9b-bcf6-3d783e739cf1",
        "colab": {
          "base_uri": "https://localhost:8080/",
          "height": 70
        }
      },
      "source": [
        "N = 5000\n",
        "# Matrix * Matrix\n",
        "############CPU###############\n",
        "s = time.time()\n",
        "\n",
        "m1_cpu = np.ones((N, N))\n",
        "m2_cpu = np.ones((N, N))\n",
        "p_cpu = np.dot(m1_cpu, m2_cpu)\n",
        "\n",
        "e = time.time()\n",
        "cpu_time = (e - s) * 1000.0\n",
        "print(f\"CPU Time: {cpu_time} msec\")\n",
        "\n",
        "############GPU###############\n",
        "stream = cp.cuda.Stream.null\n",
        "start = stream.record()\n",
        "\n",
        "x_gpu = cp.ones((N, N))\n",
        "v_gpu = cp.ones((N, N))\n",
        "p_gpu = cp.dot(x_gpu, v_gpu)\n",
        "\n",
        "end = stream.record()\n",
        "end.synchronize()\n",
        "gpu_time = cp.cuda.get_elapsed_time(start, end)\n",
        "print(f\"GPU Time: {gpu_time} msec\")\n",
        "\n",
        "############Speedup#############\n",
        "print(f\"Speedup = {cpu_time/gpu_time}\")"
      ],
      "execution_count": 7,
      "outputs": [
        {
          "output_type": "stream",
          "text": [
            "CPU Time: 3770.7877159118652 msec\n",
            "GPU Time: 291.92529296875 msec\n",
            "Speedup = 12.916961314193218\n"
          ],
          "name": "stdout"
        }
      ]
    }
  ]
}